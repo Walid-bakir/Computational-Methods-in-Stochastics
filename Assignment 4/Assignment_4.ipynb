{
 "cells": [
  {
   "cell_type": "code",
   "execution_count": 23,
   "id": "5b2c5252",
   "metadata": {},
   "outputs": [],
   "source": [
    "import numpy as np\n",
    "import matplotlib.pyplot as plt\n",
    "import random\n",
    "import math"
   ]
  },
  {
   "cell_type": "markdown",
   "id": "6fd5e61c",
   "metadata": {},
   "source": [
    "## The revised method"
   ]
  },
  {
   "cell_type": "code",
   "execution_count": 24,
   "id": "f731475d",
   "metadata": {},
   "outputs": [],
   "source": [
    "def get_lamda(x):\n",
    "    l = 0\n",
    "    x = x/60\n",
    "    if (0 <= x and x < 6):\n",
    "        l = 0.2\n",
    "    elif (6 <= x and x < 8):\n",
    "        l = 0.9\n",
    "    elif (8 <= x and x < 12):\n",
    "        l = 0.5\n",
    "    elif (12 <= x and x < 15):\n",
    "        l = 0.6 \n",
    "    elif (15 <= x and x < 17):\n",
    "        l = 1.0\n",
    "    elif (17 <= x and x < 19):\n",
    "        l = 0.6    \n",
    "    else :\n",
    "        l = 0.5\n",
    "    return l    "
   ]
  },
  {
   "cell_type": "code",
   "execution_count": 25,
   "id": "1b1b6564",
   "metadata": {},
   "outputs": [],
   "source": [
    "# The revised algorithm\n",
    "\n",
    "def revised(T = 24):\n",
    "    # convert T to minutes.\n",
    "    T = T*60\n",
    "    U_lamda = 1 \n",
    "    x_0 = 0\n",
    "    m = np.random.poisson(U_lamda*T)\n",
    "    x = [x_0]\n",
    "    x_accept = []\n",
    "    for i in range(1, m + 1):\n",
    "        u = random.random()\n",
    "        x_i = x[i -1] + (T - x[i -1])*(1 - (u)**(1/(m-i+1)))\n",
    "        y = random.uniform(0, U_lamda)\n",
    "        l = get_lamda(x_i)\n",
    "        x.append(x_i)\n",
    "        if y <= l:\n",
    "            x_accept.append(x_i)\n",
    "    return x_accept        "
   ]
  },
  {
   "cell_type": "code",
   "execution_count": 26,
   "id": "7974b81b",
   "metadata": {},
   "outputs": [],
   "source": [
    "# 1000 simulations of the revised algorithm.\n",
    "\n",
    "def simulate_revised(sim = 1000):\n",
    "    # return a list of all simulations. So, a list of lists. \n",
    "    X = []\n",
    "    for _ in range(sim):\n",
    "        X.append(revised())\n",
    "    return X    "
   ]
  },
  {
   "cell_type": "code",
   "execution_count": 27,
   "id": "c7a36492",
   "metadata": {
    "scrolled": false
   },
   "outputs": [],
   "source": [
    "# Get the the list of all simulations\n",
    "X = simulate_revised()"
   ]
  },
  {
   "cell_type": "code",
   "execution_count": 28,
   "id": "0a77bd6f",
   "metadata": {},
   "outputs": [],
   "source": [
    "def get_number_cars(x : list):\n",
    "    # Compute the number of cars arrived at each minute from one simulation.\n",
    "    cars_arrived = [0 for _ in range(1440)]\n",
    "    for k in range(len(x)):\n",
    "        i = math.ceil(x[k])\n",
    "        cars_arrived[i - 1] += 1\n",
    "    return cars_arrived"
   ]
  },
  {
   "cell_type": "code",
   "execution_count": 29,
   "id": "8c2309f1",
   "metadata": {},
   "outputs": [],
   "source": [
    "# The number of cars arrived per minute over 1000 simulations\n",
    "def cars_arrived_1000(X):\n",
    "    cars_arrived_1000 = []\n",
    "    for i in range(1000):\n",
    "        cars_arrived_1000.append(get_number_cars(X[i]))\n",
    "    return cars_arrived_1000    "
   ]
  },
  {
   "cell_type": "code",
   "execution_count": 30,
   "id": "61fc0254",
   "metadata": {},
   "outputs": [],
   "source": [
    "Cars_arrived_1000 = cars_arrived_1000(X)"
   ]
  },
  {
   "cell_type": "code",
   "execution_count": 31,
   "id": "69481a31",
   "metadata": {},
   "outputs": [],
   "source": [
    "def average_cars_per_minute(Cars_arrived_1000):\n",
    "    avg = []\n",
    "    for k in range(1440):\n",
    "        a = 0\n",
    "        for j in range(1000):\n",
    "            a += Cars_arrived_1000[j][k]\n",
    "        avg.append(a/1000)\n",
    "    return avg    "
   ]
  },
  {
   "cell_type": "code",
   "execution_count": 32,
   "id": "dc45dd3a",
   "metadata": {},
   "outputs": [],
   "source": [
    "# Get the averages of cars arrived per minute over 1000 simulation\n",
    "average_cars_1000 = average_cars_per_minute(Cars_arrived_1000)"
   ]
  },
  {
   "cell_type": "code",
   "execution_count": 34,
   "id": "3309f5c2",
   "metadata": {},
   "outputs": [
    {
     "data": {
      "text/plain": [
       "Text(0.5, 1.0, 'Revised algorithm : Average cars arrived per minute')"
      ]
     },
     "execution_count": 34,
     "metadata": {},
     "output_type": "execute_result"
    },
    {
     "data": {
      "image/png": "[encoded data removed]",
      "text/plain": [
       "<Figure size 432x288 with 1 Axes>"
      ]
     },
     "metadata": {
      "needs_background": "light"
     },
     "output_type": "display_data"
    }
   ],
   "source": [
    "# Plot the averages.\n",
    "minutes = [(i + 1) for i in range(1440)]\n",
    "plt.scatter(minutes, average_cars_1000)\n",
    "plt.xlabel(\"Minutes of the day\")\n",
    "plt.ylabel(\"Average cars\")\n",
    "plt.title(\"Revised algorithm : Average cars arrived per minute\")"
   ]
  },
  {
   "cell_type": "code",
   "execution_count": 35,
   "id": "b74737be",
   "metadata": {},
   "outputs": [],
   "source": [
    "# Function to cummulate the numbers in a list.\n",
    "def cummulate(L : list):\n",
    "    cumm = []\n",
    "    size = len(L)\n",
    "    cumm = [sum(L[0:x:1]) for x in range(0, size+1)]\n",
    "    return cumm[1:]"
   ]
  },
  {
   "cell_type": "code",
   "execution_count": 36,
   "id": "7c0a8ad9",
   "metadata": {},
   "outputs": [],
   "source": [
    "# Get the list of cummulative cars arrived per minute in average\n",
    "Cummulative_cars_arrived = cummulate(average_cars_1000)"
   ]
  },
  {
   "cell_type": "code",
   "execution_count": 39,
   "id": "33251d46",
   "metadata": {},
   "outputs": [
    {
     "data": {
      "text/plain": [
       "Text(0.5, 1.0, 'Revised algorithm : Cummulative cars arrived per minute')"
      ]
     },
     "execution_count": 39,
     "metadata": {},
     "output_type": "execute_result"
    },
    {
     "data": {
      "image/png": "[encoded data removed]",
      "text/plain": [
       "<Figure size 432x288 with 1 Axes>"
      ]
     },
     "metadata": {
      "needs_background": "light"
     },
     "output_type": "display_data"
    }
   ],
   "source": [
    "# Plot the averages.\n",
    "minutes = [(i + 1) for i in range(1440)]\n",
    "plt.scatter(minutes, Cummulative_cars_arrived)\n",
    "plt.xlabel(\"Minutes of the day\")\n",
    "plt.ylabel(\"Cummulative cars\")\n",
    "plt.title(\"Revised algorithm : Cummulative cars arrived per minute\")"
   ]
  },
  {
   "cell_type": "code",
   "execution_count": 40,
   "id": "4f41d236",
   "metadata": {},
   "outputs": [
    {
     "name": "stdout",
     "output_type": "stream",
     "text": [
      "The revised simulations : \n",
      "\n",
      "The average number of cars that arrived in one day is 749.4810000000009 cars.\n",
      "The average time when the first car arrived 4.911180766137993 minutes after 00:00\n"
     ]
    }
   ],
   "source": [
    "# Printing numerical values\n",
    "\n",
    "print(\"The revised simulations : \\n\")\n",
    "average_cars_arrived_in_day = Cummulative_cars_arrived[-1]\n",
    "\n",
    "average_time_first_car = 0\n",
    "for i in range(1000):\n",
    "    average_time_first_car += X[i][0]\n",
    "average_time_first_car /= 1000\n",
    "\n",
    "print(f\"The average number of cars that arrived in one day is {average_cars_arrived_in_day} cars.\")\n",
    "print(f\"The average time when the first car arrived {average_time_first_car} minutes after 00:00\")"
   ]
  },
  {
   "cell_type": "markdown",
   "id": "e808aed4",
   "metadata": {},
   "source": [
    "## The thinning approach"
   ]
  },
  {
   "cell_type": "code",
   "execution_count": 41,
   "id": "f62abb2d",
   "metadata": {},
   "outputs": [],
   "source": [
    "# Algorithm\n",
    "\n",
    "def thining(T = 1440):\n",
    "    U_lambda = 1\n",
    "    t = [0]\n",
    "    t_acc = []\n",
    "    i = 1\n",
    "    while(True):\n",
    "        t_sample = np.random.exponential(U_lambda)\n",
    "        new_t = t[i - 1] + t_sample\n",
    "        t.append(new_t)\n",
    "        if (new_t > T):\n",
    "            break\n",
    "        u = random.random()\n",
    "        l = get_lamda(new_t)\n",
    "        if (u <= l/U_lambda):\n",
    "            t_acc.append(new_t)\n",
    "        i += 1\n",
    "    return t_acc    "
   ]
  },
  {
   "cell_type": "code",
   "execution_count": 42,
   "id": "aa189dba",
   "metadata": {},
   "outputs": [],
   "source": [
    "# 1000 simulations of the thining algorithm\n",
    "\n",
    "def simulate_thining(sim = 1000):\n",
    "    Y = []\n",
    "    for _ in range(sim):\n",
    "        Y.append(thining())\n",
    "    return Y    "
   ]
  },
  {
   "cell_type": "code",
   "execution_count": 43,
   "id": "fb55d8b4",
   "metadata": {},
   "outputs": [],
   "source": [
    "# get the list of simulations\n",
    "Y = simulate_thining()"
   ]
  },
  {
   "cell_type": "code",
   "execution_count": 44,
   "id": "e26a650e",
   "metadata": {},
   "outputs": [],
   "source": [
    "# cars arrived per minute\n",
    "Cars_arrived_1000_thining = cars_arrived_1000(Y) "
   ]
  },
  {
   "cell_type": "code",
   "execution_count": 45,
   "id": "267cbd03",
   "metadata": {},
   "outputs": [],
   "source": [
    "# Get the averages of cars arrived per minute over 1000 simulation\n",
    "average_cars_1000_thining = average_cars_per_minute(Cars_arrived_1000_thining)"
   ]
  },
  {
   "cell_type": "code",
   "execution_count": 46,
   "id": "01dcf2c9",
   "metadata": {},
   "outputs": [
    {
     "data": {
      "text/plain": [
       "Text(0.5, 1.0, 'Thining algorithm : Average cars arrived per minute')"
      ]
     },
     "execution_count": 46,
     "metadata": {},
     "output_type": "execute_result"
    },
    {
     "data": {
      "image/png": "[encoded data removed]",
      "text/plain": [
       "<Figure size 432x288 with 1 Axes>"
      ]
     },
     "metadata": {
      "needs_background": "light"
     },
     "output_type": "display_data"
    }
   ],
   "source": [
    "# Plot the averages.\n",
    "minutes = [(i + 1) for i in range(1440)]\n",
    "plt.scatter(minutes, average_cars_1000)\n",
    "plt.xlabel(\"Minutes of the day\")\n",
    "plt.ylabel(\"Average cars\")\n",
    "plt.title(\"Thining algorithm : Average cars arrived per minute\")"
   ]
  },
  {
   "cell_type": "code",
   "execution_count": 47,
   "id": "bc90ee4f",
   "metadata": {},
   "outputs": [],
   "source": [
    "# Get the list of cummulative cars arrived per minute in average\n",
    "Cummulative_cars_arrived_thining = cummulate(average_cars_1000_thining)"
   ]
  },
  {
   "cell_type": "code",
   "execution_count": 49,
   "id": "1eeb77f5",
   "metadata": {},
   "outputs": [
    {
     "data": {
      "text/plain": [
       "Text(0.5, 1.0, 'Thining algorithm: Cummulative cars arrived per minute')"
      ]
     },
     "execution_count": 49,
     "metadata": {},
     "output_type": "execute_result"
    },
    {
     "data": {
      "image/png": "[encoded data removed]",
      "text/plain": [
       "<Figure size 432x288 with 1 Axes>"
      ]
     },
     "metadata": {
      "needs_background": "light"
     },
     "output_type": "display_data"
    }
   ],
   "source": [
    "# Plot the averages.\n",
    "minutes = [(i + 1) for i in range(1440)]\n",
    "plt.scatter(minutes, Cummulative_cars_arrived_thining)\n",
    "plt.xlabel(\"Minutes of the day\")\n",
    "plt.ylabel(\"Cummulative cars\")\n",
    "plt.title(\"Thining algorithm: Cummulative cars arrived per minute\")"
   ]
  },
  {
   "cell_type": "code",
   "execution_count": 50,
   "id": "268317ee",
   "metadata": {},
   "outputs": [
    {
     "name": "stdout",
     "output_type": "stream",
     "text": [
      "The thining simulations : \n",
      "\n",
      "The average number of cars that arrived in one day is 751.0440000000011 cars.\n",
      "The average time when the first car arrived 4.905725228133915 minutes after 00:00\n"
     ]
    }
   ],
   "source": [
    "# Printing numerical values\n",
    "\n",
    "print(\"The thining simulations : \\n\")\n",
    "average_cars_arrived_in_day_thining = Cummulative_cars_arrived_thining[-1]\n",
    "\n",
    "average_time_first_car_thining = 0\n",
    "for i in range(1000):\n",
    "    average_time_first_car_thining += Y[i][0]\n",
    "average_time_first_car_thining /= 1000\n",
    "\n",
    "print(f\"The average number of cars that arrived in one day is {average_cars_arrived_in_day_thining} cars.\")\n",
    "print(f\"The average time when the first car arrived {average_time_first_car_thining} minutes after 00:00\")"
   ]
  },
  {
   "cell_type": "code",
   "execution_count": null,
   "id": "41e08fd5",
   "metadata": {},
   "outputs": [],
   "source": []
  }
 ],
 "metadata": {
  "kernelspec": {
   "display_name": "Python 3 (ipykernel)",
   "language": "python",
   "name": "python3"
  },
  "language_info": {
   "codemirror_mode": {
    "name": "ipython",
    "version": 3
   },
   "file_extension": ".py",
   "mimetype": "text/x-python",
   "name": "python",
   "nbconvert_exporter": "python",
   "pygments_lexer": "ipython3",
   "version": "3.9.7"
  }
 },
 "nbformat": 4,
 "nbformat_minor": 5
}
